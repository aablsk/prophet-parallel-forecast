{
 "cells": [
  {
   "cell_type": "code",
   "execution_count": null,
   "id": "b71ed89a-13ed-44ed-b7ec-33dddbb79d3d",
   "metadata": {},
   "outputs": [],
   "source": [
    "!pip install pystan convertdate lunarcalendar holidays pyarrow google-cloud-bigquery google-cloud-bigquery-storage pandas_gbq pandas prophet==1.0.1 "
   ]
  },
  {
   "cell_type": "code",
   "execution_count": null,
   "id": "2a1f5894-c2e2-4da0-88fc-8acb9fe49bae",
   "metadata": {},
   "outputs": [],
   "source": [
    "from prophet import Prophet\n",
    "import numpy as np\n",
    "import pandas as pd\n",
    "import pandas_gbq\n",
    "from datetime import date\n",
    "from google.cloud import bigquery\n",
    "from tqdm import tqdm\n",
    "from multiprocessing import Pool, cpu_count"
   ]
  },
  {
   "cell_type": "code",
   "execution_count": null,
   "id": "72f5c4d1-a651-47ea-abd0-952ebc5ebc59",
   "metadata": {},
   "outputs": [],
   "source": [
    "client = bigquery.Client(project=\"timeseries-batch-forecasting\")\n",
    "sql = \"\"\"\n",
    "SELECT\n",
    "  date as ds,\n",
    "  item_description,\n",
    "  SUM(bottles_sold) as y\n",
    "FROM\n",
    "  `iowa_liquor_retail_sales.sales` # TABLESAMPLE SYSTEM (10 PERCENT)\n",
    "WHERE date > DATE(\"2021-12-31\") AND item_description LIKE 'J%'\n",
    "GROUP BY\n",
    "  date,\n",
    "  item_description\n",
    "ORDER BY\n",
    "  item_description,\n",
    "  date;\n",
    "\"\"\"\n",
    "query_job = client.query(sql).to_dataframe()"
   ]
  },
  {
   "cell_type": "code",
   "execution_count": null,
   "id": "a878affe-aaf7-4f70-af5d-cf0f0c2a75e2",
   "metadata": {},
   "outputs": [],
   "source": [
    "sales_data = query_job.astype({'y': 'int32'})\n",
    "grouped = sales_data.groupby(sales_data.item_description)\n",
    "grouped.head()"
   ]
  },
  {
   "cell_type": "code",
   "execution_count": null,
   "id": "20e79f60-6240-426f-b06f-3d79420565f7",
   "metadata": {},
   "outputs": [],
   "source": [
    "def run_prophet(timeseries):\n",
    "    if len(timeseries[1]) < 2:\n",
    "        return\n",
    "    model = Prophet(daily_seasonality=False, yearly_seasonality=False, weekly_seasonality=False)\n",
    "    model.fit(timeseries[1])\n",
    "    forecast_def = model.make_future_dataframe(periods=30, include_history=False)\n",
    "    forecast = model.predict(forecast_def)\n",
    "    return (timeseries[0], forecast)"
   ]
  },
  {
   "cell_type": "code",
   "execution_count": null,
   "id": "4ec52259-65c9-4d90-992c-0ccd5e6e3e97",
   "metadata": {},
   "outputs": [],
   "source": [
    "p = Pool(cpu_count())\n",
    "predictions = list(tqdm(p.imap(run_prophet, grouped), total=grouped.ngroups))\n",
    "p.close()\n",
    "p.join()"
   ]
  },
  {
   "cell_type": "code",
   "execution_count": null,
   "id": "d14df817-6ffe-4236-b403-0914d336e5ec",
   "metadata": {},
   "outputs": [],
   "source": [
    "predictions[0]"
   ]
  },
  {
   "cell_type": "code",
   "execution_count": null,
   "id": "b773ced4-3773-4951-a06b-b99ebfa445d5",
   "metadata": {},
   "outputs": [],
   "source": [
    "predictions_clean = []\n",
    "for p in predictions:\n",
    "    if p is None:\n",
    "        continue\n",
    "    p[1]['Product'] = p[0]\n",
    "    predictions_clean.append(p[1])\n",
    "pandas_gbq.to_gbq(dataframe=pd.concat(predictions_clean), destination_table=\"timeseries-batch-forecasting.forecast_results.from_notebook_{}\".format(date.today()), if_exists='replace', project_id=\"timeseries-batch-forecasting\")"
   ]
  },
  {
   "cell_type": "code",
   "execution_count": 2,
   "id": "31e69b6f-1c24-4973-aee8-a73bdf272b13",
   "metadata": {},
   "outputs": [
    {
     "data": {
      "text/plain": [
       "[2, 3, 4, 5]"
      ]
     },
     "execution_count": 2,
     "metadata": {},
     "output_type": "execute_result"
    }
   ],
   "source": [
    "call = [1,2,3,4]\n",
    "result = [x+1 for x in call]\n",
    "result"
   ]
  }
 ],
 "metadata": {
  "kernelspec": {
   "display_name": "Python (Local)",
   "language": "python",
   "name": "local-base"
  },
  "language_info": {
   "codemirror_mode": {
    "name": "ipython",
    "version": 3
   },
   "file_extension": ".py",
   "mimetype": "text/x-python",
   "name": "python",
   "nbconvert_exporter": "python",
   "pygments_lexer": "ipython3",
   "version": "3.7.12"
  }
 },
 "nbformat": 4,
 "nbformat_minor": 5
}
